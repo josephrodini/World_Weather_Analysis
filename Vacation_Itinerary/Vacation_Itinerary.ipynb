{
 "cells": [
  {
   "cell_type": "markdown",
   "metadata": {},
   "source": [
    "## Deliverable 3. Create a Travel Itinerary Map."
   ]
  },
  {
   "cell_type": "code",
   "execution_count": 3,
   "metadata": {},
   "outputs": [],
   "source": [
    "# Dependencies and Setup\n",
    "import pandas as pd\n",
    "import requests\n",
    "import gmaps\n",
    "\n",
    "# Import API key\n",
    "from config import g_key\n",
    "\n",
    "# Configure gmaps\n",
    "gmaps.configure(api_key=g_key)"
   ]
  },
  {
   "cell_type": "code",
   "execution_count": 6,
   "metadata": {},
   "outputs": [
    {
     "data": {
      "text/html": [
       "<div>\n",
       "<style scoped>\n",
       "    .dataframe tbody tr th:only-of-type {\n",
       "        vertical-align: middle;\n",
       "    }\n",
       "\n",
       "    .dataframe tbody tr th {\n",
       "        vertical-align: top;\n",
       "    }\n",
       "\n",
       "    .dataframe thead th {\n",
       "        text-align: right;\n",
       "    }\n",
       "</style>\n",
       "<table border=\"1\" class=\"dataframe\">\n",
       "  <thead>\n",
       "    <tr style=\"text-align: right;\">\n",
       "      <th></th>\n",
       "      <th>City ID</th>\n",
       "      <th>City</th>\n",
       "      <th>Country</th>\n",
       "      <th>Max Temp</th>\n",
       "      <th>Weather Description</th>\n",
       "      <th>Lat</th>\n",
       "      <th>Lng</th>\n",
       "      <th>Hotel Name</th>\n",
       "    </tr>\n",
       "  </thead>\n",
       "  <tbody>\n",
       "    <tr>\n",
       "      <th>0</th>\n",
       "      <td>1</td>\n",
       "      <td>Hithadhoo</td>\n",
       "      <td>MV</td>\n",
       "      <td>82.18</td>\n",
       "      <td>overcast clouds</td>\n",
       "      <td>-0.6000</td>\n",
       "      <td>73.0833</td>\n",
       "      <td>Scoop Guest House</td>\n",
       "    </tr>\n",
       "    <tr>\n",
       "      <th>1</th>\n",
       "      <td>3</td>\n",
       "      <td>Lorengau</td>\n",
       "      <td>PG</td>\n",
       "      <td>81.88</td>\n",
       "      <td>broken clouds</td>\n",
       "      <td>-2.0226</td>\n",
       "      <td>147.2712</td>\n",
       "      <td>Lorengau Harbourside Hotel</td>\n",
       "    </tr>\n",
       "    <tr>\n",
       "      <th>2</th>\n",
       "      <td>4</td>\n",
       "      <td>Hilo</td>\n",
       "      <td>US</td>\n",
       "      <td>79.29</td>\n",
       "      <td>overcast clouds</td>\n",
       "      <td>19.7297</td>\n",
       "      <td>-155.0900</td>\n",
       "      <td>Hilo Hawaiian Hotel</td>\n",
       "    </tr>\n",
       "    <tr>\n",
       "      <th>3</th>\n",
       "      <td>6</td>\n",
       "      <td>Tabou</td>\n",
       "      <td>CI</td>\n",
       "      <td>75.63</td>\n",
       "      <td>light rain</td>\n",
       "      <td>4.4230</td>\n",
       "      <td>-7.3528</td>\n",
       "      <td>hotêl doufoulougou</td>\n",
       "    </tr>\n",
       "    <tr>\n",
       "      <th>4</th>\n",
       "      <td>15</td>\n",
       "      <td>Hurricane</td>\n",
       "      <td>US</td>\n",
       "      <td>88.50</td>\n",
       "      <td>broken clouds</td>\n",
       "      <td>37.1753</td>\n",
       "      <td>-113.2899</td>\n",
       "      <td>Super 8 by Wyndham Hurricane Zion National Park</td>\n",
       "    </tr>\n",
       "  </tbody>\n",
       "</table>\n",
       "</div>"
      ],
      "text/plain": [
       "   City ID       City Country  Max Temp Weather Description      Lat  \\\n",
       "0        1  Hithadhoo      MV     82.18     overcast clouds  -0.6000   \n",
       "1        3   Lorengau      PG     81.88       broken clouds  -2.0226   \n",
       "2        4       Hilo      US     79.29     overcast clouds  19.7297   \n",
       "3        6      Tabou      CI     75.63          light rain   4.4230   \n",
       "4       15  Hurricane      US     88.50       broken clouds  37.1753   \n",
       "\n",
       "        Lng                                       Hotel Name  \n",
       "0   73.0833                                Scoop Guest House  \n",
       "1  147.2712                       Lorengau Harbourside Hotel  \n",
       "2 -155.0900                              Hilo Hawaiian Hotel  \n",
       "3   -7.3528                               hotêl doufoulougou  \n",
       "4 -113.2899  Super 8 by Wyndham Hurricane Zion National Park  "
      ]
     },
     "execution_count": 6,
     "metadata": {},
     "output_type": "execute_result"
    }
   ],
   "source": [
    "# 1. Read the WeatherPy_vacation.csv into a DataFrame.\n",
    "vacation_df = pd.read_csv(\"WeatherPy_vacation.csv\")\n",
    "vacation_df.head()"
   ]
  },
  {
   "cell_type": "code",
   "execution_count": 8,
   "metadata": {},
   "outputs": [],
   "source": [
    "# 2. Using the template add the city name, the country code, the weather description and maximum temperature for the city.\n",
    "info_box_template = \"\"\"\n",
    "<dl>\n",
    "<dt>Hotel Name</dt><dd>{Hotel Name}</dd>\n",
    "<dt>City</dt><dd>{City}</dd>\n",
    "<dt>Country</dt><dd>{Country}</dd>\n",
    "<dt>Weather Description</dt><dd>{Weather Description}</dd>\n",
    "<dt>Max Temp</dt><dd>{Max Temp} °F</dd>\n",
    "</dl>\n",
    "\"\"\"\n",
    "\n",
    "# 3a. Get the data from each row and add it to the formatting template and store the data in a list.\n",
    "hotel_info = [info_box_template.format(**row) for index, row in vacation_df.iterrows()]\n",
    "\n",
    "# 3b. Get the latitude and longitude from each row and store in a new DataFrame.\n",
    "locations = vacation_df[[\"Lat\", \"Lng\"]]"
   ]
  },
  {
   "cell_type": "code",
   "execution_count": 10,
   "metadata": {},
   "outputs": [
    {
     "data": {
      "application/vnd.jupyter.widget-view+json": {
       "model_id": "34f8580011eb4b189a282069db3fb74e",
       "version_major": 2,
       "version_minor": 0
      },
      "text/plain": [
       "Figure(layout=FigureLayout(height='420px'))"
      ]
     },
     "metadata": {},
     "output_type": "display_data"
    }
   ],
   "source": [
    "# 4a. Add a marker layer for each city to the map.\n",
    "\n",
    "fig = gmaps.figure(center=(30.0, 31.0), zoom_level=1.5)\n",
    "\n",
    "marker_layer = gmaps.marker_layer(locations, info_box_content=hotel_info)\n",
    "\n",
    "fig.add_layer(marker_layer)\n",
    "\n",
    "# 4b. Display the figure\n",
    "\n",
    "fig\n"
   ]
  },
  {
   "cell_type": "code",
   "execution_count": 11,
   "metadata": {},
   "outputs": [],
   "source": [
    "# From the map above pick 4 cities and create a vacation itinerary route to travel between the four cities. \n",
    "# 5. Create DataFrames for each city by filtering the 'vacation_df' using the loc method. \n",
    "# Hint: The starting and ending city should be the same city.\n",
    "\n",
    "vacation_start = vacation_df.loc[vacation_df[\"City\"] == \"West Lafayette\"]\n",
    "vacation_end = vacation_df.loc[vacation_df[\"City\"] == \"West Lafayette\"]\n",
    "vacation_stop1 = vacation_df.loc[vacation_df[\"City\"] == \"Beatrice\"]\n",
    "vacation_stop2 = vacation_df.loc[vacation_df[\"City\"] == \"Le Mars\"]\n",
    "vacation_stop3 = vacation_df.loc[vacation_df[\"City\"] == \"Faribault\"]"
   ]
  },
  {
   "cell_type": "code",
   "execution_count": 30,
   "metadata": {},
   "outputs": [],
   "source": [
    "def get_coords(city_df):\n",
    "    city_lat = city_df[\"Lat\"].to_numpy()[0]\n",
    "    city_lng = city_df[\"Lng\"].to_numpy()[0]\n",
    "    city_coord = (city_lat, city_lng)\n",
    "    return city_coord"
   ]
  },
  {
   "cell_type": "code",
   "execution_count": 31,
   "metadata": {},
   "outputs": [],
   "source": [
    "# 6. Get the latitude-longitude pairs as tuples from each city DataFrame using the to_numpy function and list indexing.\n",
    "\n",
    "def get_coords(city_df):\n",
    "    city_lat = city_df[\"Lat\"].to_numpy()[0]\n",
    "    city_lng = city_df[\"Lng\"].to_numpy()[0]\n",
    "    city_coord = (city_lat, city_lng)\n",
    "    return city_coord\n",
    "\n",
    "start = get_coords(vacation_start)\n",
    "end = get_coords(vacation_end)\n",
    "stop1 = get_coords(vacation_stop1)\n",
    "stop2 = get_coords(vacation_stop2)\n",
    "stop3 = get_coords(vacation_stop3)"
   ]
  },
  {
   "cell_type": "code",
   "execution_count": 33,
   "metadata": {
    "scrolled": true
   },
   "outputs": [
    {
     "data": {
      "application/vnd.jupyter.widget-view+json": {
       "model_id": "4b60b81ac9bc4c14abec2e277e9a55ed",
       "version_major": 2,
       "version_minor": 0
      },
      "text/plain": [
       "Figure(layout=FigureLayout(height='420px'))"
      ]
     },
     "metadata": {},
     "output_type": "display_data"
    }
   ],
   "source": [
    "# 7. Create a direction layer map using the start and end latitude-longitude pairs,\n",
    "# and stop1, stop2, and stop3 as the waypoints. The travel_mode should be \"DRIVING\", \"BICYCLING\", or \"WALKING\".\n",
    "\n",
    "import gmaps\n",
    "import gmaps.datasets\n",
    "gmaps.configure(api_key=g_key)\n",
    "\n",
    "fig = gmaps.figure()\n",
    "usa_trip = gmaps.directions_layer(start, end, waypoints=[stop1, stop2, stop3],\n",
    "        travel_mode='DRIVING')\n",
    "fig.add_layer(usa_trip)\n",
    "fig"
   ]
  },
  {
   "cell_type": "code",
   "execution_count": 35,
   "metadata": {},
   "outputs": [
    {
     "data": {
      "text/html": [
       "<div>\n",
       "<style scoped>\n",
       "    .dataframe tbody tr th:only-of-type {\n",
       "        vertical-align: middle;\n",
       "    }\n",
       "\n",
       "    .dataframe tbody tr th {\n",
       "        vertical-align: top;\n",
       "    }\n",
       "\n",
       "    .dataframe thead th {\n",
       "        text-align: right;\n",
       "    }\n",
       "</style>\n",
       "<table border=\"1\" class=\"dataframe\">\n",
       "  <thead>\n",
       "    <tr style=\"text-align: right;\">\n",
       "      <th></th>\n",
       "      <th>City ID</th>\n",
       "      <th>City</th>\n",
       "      <th>Country</th>\n",
       "      <th>Max Temp</th>\n",
       "      <th>Weather Description</th>\n",
       "      <th>Lat</th>\n",
       "      <th>Lng</th>\n",
       "      <th>Hotel Name</th>\n",
       "    </tr>\n",
       "  </thead>\n",
       "  <tbody>\n",
       "    <tr>\n",
       "      <th>0</th>\n",
       "      <td>456</td>\n",
       "      <td>West Lafayette</td>\n",
       "      <td>US</td>\n",
       "      <td>80.69</td>\n",
       "      <td>heavy intensity rain</td>\n",
       "      <td>40.4259</td>\n",
       "      <td>-86.9081</td>\n",
       "      <td>Hilton Garden Inn West Lafayette Wabash Landing</td>\n",
       "    </tr>\n",
       "    <tr>\n",
       "      <th>1</th>\n",
       "      <td>662</td>\n",
       "      <td>Beatrice</td>\n",
       "      <td>US</td>\n",
       "      <td>78.89</td>\n",
       "      <td>clear sky</td>\n",
       "      <td>40.2681</td>\n",
       "      <td>-96.7470</td>\n",
       "      <td>Victorian Inn Beatrice</td>\n",
       "    </tr>\n",
       "    <tr>\n",
       "      <th>2</th>\n",
       "      <td>431</td>\n",
       "      <td>Le Mars</td>\n",
       "      <td>US</td>\n",
       "      <td>83.71</td>\n",
       "      <td>clear sky</td>\n",
       "      <td>42.7942</td>\n",
       "      <td>-96.1656</td>\n",
       "      <td>Holiday Inn Express &amp; Suites Le Mars, an IHG H...</td>\n",
       "    </tr>\n",
       "    <tr>\n",
       "      <th>3</th>\n",
       "      <td>519</td>\n",
       "      <td>Faribault</td>\n",
       "      <td>US</td>\n",
       "      <td>76.71</td>\n",
       "      <td>broken clouds</td>\n",
       "      <td>44.2950</td>\n",
       "      <td>-93.2688</td>\n",
       "      <td>GrandStay Residential Suites Hotel Faribault</td>\n",
       "    </tr>\n",
       "    <tr>\n",
       "      <th>4</th>\n",
       "      <td>456</td>\n",
       "      <td>West Lafayette</td>\n",
       "      <td>US</td>\n",
       "      <td>80.69</td>\n",
       "      <td>heavy intensity rain</td>\n",
       "      <td>40.4259</td>\n",
       "      <td>-86.9081</td>\n",
       "      <td>Hilton Garden Inn West Lafayette Wabash Landing</td>\n",
       "    </tr>\n",
       "  </tbody>\n",
       "</table>\n",
       "</div>"
      ],
      "text/plain": [
       "   City ID            City Country  Max Temp   Weather Description      Lat  \\\n",
       "0      456  West Lafayette      US     80.69  heavy intensity rain  40.4259   \n",
       "1      662        Beatrice      US     78.89             clear sky  40.2681   \n",
       "2      431         Le Mars      US     83.71             clear sky  42.7942   \n",
       "3      519       Faribault      US     76.71         broken clouds  44.2950   \n",
       "4      456  West Lafayette      US     80.69  heavy intensity rain  40.4259   \n",
       "\n",
       "       Lng                                         Hotel Name  \n",
       "0 -86.9081    Hilton Garden Inn West Lafayette Wabash Landing  \n",
       "1 -96.7470                             Victorian Inn Beatrice  \n",
       "2 -96.1656  Holiday Inn Express & Suites Le Mars, an IHG H...  \n",
       "3 -93.2688       GrandStay Residential Suites Hotel Faribault  \n",
       "4 -86.9081    Hilton Garden Inn West Lafayette Wabash Landing  "
      ]
     },
     "execution_count": 35,
     "metadata": {},
     "output_type": "execute_result"
    }
   ],
   "source": [
    "# 8. To create a marker layer map between the four cities.\n",
    "#  Combine the four city DataFrames into one DataFrame using the concat() function.\n",
    "itinerary_df = pd.concat([vacation_start, vacation_stop1, vacation_stop2, vacation_stop3, vacation_end],ignore_index=True)\n",
    "itinerary_df"
   ]
  },
  {
   "cell_type": "code",
   "execution_count": 36,
   "metadata": {},
   "outputs": [],
   "source": [
    "# 9 Using the template add city name, the country code, the weather description and maximum temperature for the city. \n",
    "info_box_template = \"\"\"\n",
    "<dl>\n",
    "<dt>Hotel Name</dt><dd>{Hotel Name}</dd>\n",
    "<dt>City</dt><dd>{City}</dd>\n",
    "<dt>Country</dt><dd>{Country}</dd>\n",
    "<dt>Weather Description</dt><dd>{Weather Description}</dd>\n",
    "<dt>Max Temp</dt><dd>{Max Temp} °F</dd>\n",
    "</dl>\n",
    "\"\"\"\n",
    "\n",
    "# 10a Get the data from each row and add it to the formatting template and store the data in a list.\n",
    "hotel_info = [info_box_template.format(**row) for index, row in itinerary_df.iterrows()]\n",
    "\n",
    "# 10b. Get the latitude and longitude from each row and store in a new DataFrame.\n",
    "locations = itinerary_df[[\"Lat\", \"Lng\"]]"
   ]
  },
  {
   "cell_type": "code",
   "execution_count": 51,
   "metadata": {},
   "outputs": [
    {
     "data": {
      "application/vnd.jupyter.widget-view+json": {
       "model_id": "763a54f5cbc140e58b72b32f9392a680",
       "version_major": 2,
       "version_minor": 0
      },
      "text/plain": [
       "Figure(layout=FigureLayout(height='420px'))"
      ]
     },
     "metadata": {},
     "output_type": "display_data"
    }
   ],
   "source": [
    "# 11a. Add a marker layer for each city to the map.\n",
    "\n",
    "fig = gmaps.figure(center=(43.0, -93.0), zoom_level=6)\n",
    "\n",
    "marker_layer = gmaps.marker_layer(locations, info_box_content=hotel_info)\n",
    "\n",
    "fig.add_layer(marker_layer)\n",
    "\n",
    "# 11b. Display the figure\n",
    "\n",
    "fig"
   ]
  },
  {
   "cell_type": "code",
   "execution_count": null,
   "metadata": {},
   "outputs": [],
   "source": []
  }
 ],
 "metadata": {
  "kernelspec": {
   "display_name": "PythonData",
   "language": "python",
   "name": "pythondata"
  },
  "language_info": {
   "codemirror_mode": {
    "name": "ipython",
    "version": 3
   },
   "file_extension": ".py",
   "mimetype": "text/x-python",
   "name": "python",
   "nbconvert_exporter": "python",
   "pygments_lexer": "ipython3",
   "version": "3.7.13"
  },
  "latex_envs": {
   "LaTeX_envs_menu_present": true,
   "autoclose": false,
   "autocomplete": true,
   "bibliofile": "biblio.bib",
   "cite_by": "apalike",
   "current_citInitial": 1,
   "eqLabelWithNumbers": true,
   "eqNumInitial": 1,
   "hotkeys": {
    "equation": "Ctrl-E",
    "itemize": "Ctrl-I"
   },
   "labels_anchors": false,
   "latex_user_defs": false,
   "report_style_numbering": false,
   "user_envs_cfg": false
  }
 },
 "nbformat": 4,
 "nbformat_minor": 2
}
